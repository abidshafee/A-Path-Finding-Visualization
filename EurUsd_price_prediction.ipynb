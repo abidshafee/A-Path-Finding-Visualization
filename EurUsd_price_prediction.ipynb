{
  "nbformat": 4,
  "nbformat_minor": 0,
  "metadata": {
    "colab": {
      "name": "EurUsd price prediction.ipynb",
      "provenance": [],
      "authorship_tag": "ABX9TyMLqinY1Vn4fulMkcPklz1o",
      "include_colab_link": true
    },
    "kernelspec": {
      "name": "python3",
      "display_name": "Python 3"
    }
  },
  "cells": [
    {
      "cell_type": "markdown",
      "metadata": {
        "id": "view-in-github",
        "colab_type": "text"
      },
      "source": [
        "<a href=\"https://colab.research.google.com/github/abidshafee/A-Path-Finding-Visualization/blob/master/EurUsd_price_prediction.ipynb\" target=\"_parent\"><img src=\"https://colab.research.google.com/assets/colab-badge.svg\" alt=\"Open In Colab\"/></a>"
      ]
    },
    {
      "cell_type": "code",
      "metadata": {
        "id": "BleyqTWs2qa8",
        "colab_type": "code",
        "colab": {}
      },
      "source": [
        "# Description: This is a program that predict future currency price using artificial recurrent nural network - \n",
        "# The artificial recurrent nural network architecture also called 'Long Short Term Memory' or LSTM\n",
        "# Predicting the closing price of EURUSD currency pair using the past 60 days price."
      ],
      "execution_count": 2,
      "outputs": []
    },
    {
      "cell_type": "code",
      "metadata": {
        "id": "dO8AcPAq4Dcx",
        "colab_type": "code",
        "colab": {
          "base_uri": "https://localhost:8080/",
          "height": 71
        },
        "outputId": "ba426aec-6b44-48b2-ff96-37bc6a59e7f9"
      },
      "source": [
        "import math\n",
        "import pandas_datareader as web\n",
        "import numpy as np\n",
        "import pandas as pd\n",
        "from sklearn.preprocessing import MinMaxScaler\n",
        "from keras.models import Sequential\n",
        "from keras.layers import Dense, LSTM\n",
        "import matplotlib.pyplot as plt\n",
        "plt.style.use('fivethirtyeight')"
      ],
      "execution_count": 3,
      "outputs": [
        {
          "output_type": "stream",
          "text": [
            "/usr/local/lib/python3.6/dist-packages/pandas_datareader/compat/__init__.py:7: FutureWarning: pandas.util.testing is deprecated. Use the functions in the public API at pandas.testing instead.\n",
            "  from pandas.util.testing import assert_frame_equal\n"
          ],
          "name": "stderr"
        }
      ]
    },
    {
      "cell_type": "code",
      "metadata": {
        "id": "akdBZWdIMu0W",
        "colab_type": "code",
        "colab": {
          "base_uri": "https://localhost:8080/",
          "height": 450
        },
        "outputId": "2f543d0b-d913-40f7-ff04-c11fcb3481bc"
      },
      "source": [
        "# geting the eurousd quotes\n",
        "df = web.DataReader('EURUSD=X', data_source='yahoo', start='2019-07-13', end='2020-7-13')\n",
        "# view data\n",
        "df"
      ],
      "execution_count": 7,
      "outputs": [
        {
          "output_type": "execute_result",
          "data": {
            "text/html": [
              "<div>\n",
              "<style scoped>\n",
              "    .dataframe tbody tr th:only-of-type {\n",
              "        vertical-align: middle;\n",
              "    }\n",
              "\n",
              "    .dataframe tbody tr th {\n",
              "        vertical-align: top;\n",
              "    }\n",
              "\n",
              "    .dataframe thead th {\n",
              "        text-align: right;\n",
              "    }\n",
              "</style>\n",
              "<table border=\"1\" class=\"dataframe\">\n",
              "  <thead>\n",
              "    <tr style=\"text-align: right;\">\n",
              "      <th></th>\n",
              "      <th>High</th>\n",
              "      <th>Low</th>\n",
              "      <th>Open</th>\n",
              "      <th>Close</th>\n",
              "      <th>Volume</th>\n",
              "      <th>Adj Close</th>\n",
              "    </tr>\n",
              "    <tr>\n",
              "      <th>Date</th>\n",
              "      <th></th>\n",
              "      <th></th>\n",
              "      <th></th>\n",
              "      <th></th>\n",
              "      <th></th>\n",
              "      <th></th>\n",
              "    </tr>\n",
              "  </thead>\n",
              "  <tbody>\n",
              "    <tr>\n",
              "      <th>2019-07-14</th>\n",
              "      <td>1.128599</td>\n",
              "      <td>1.125568</td>\n",
              "      <td>1.127180</td>\n",
              "      <td>1.127205</td>\n",
              "      <td>0</td>\n",
              "      <td>1.127205</td>\n",
              "    </tr>\n",
              "    <tr>\n",
              "      <th>2019-07-15</th>\n",
              "      <td>1.126634</td>\n",
              "      <td>1.120900</td>\n",
              "      <td>1.126088</td>\n",
              "      <td>1.126177</td>\n",
              "      <td>0</td>\n",
              "      <td>1.126177</td>\n",
              "    </tr>\n",
              "    <tr>\n",
              "      <th>2019-07-16</th>\n",
              "      <td>1.123343</td>\n",
              "      <td>1.120109</td>\n",
              "      <td>1.121328</td>\n",
              "      <td>1.121227</td>\n",
              "      <td>0</td>\n",
              "      <td>1.121227</td>\n",
              "    </tr>\n",
              "    <tr>\n",
              "      <th>2019-07-17</th>\n",
              "      <td>1.124733</td>\n",
              "      <td>1.120624</td>\n",
              "      <td>1.122776</td>\n",
              "      <td>1.122965</td>\n",
              "      <td>0</td>\n",
              "      <td>1.122965</td>\n",
              "    </tr>\n",
              "    <tr>\n",
              "      <th>2019-07-18</th>\n",
              "      <td>1.127142</td>\n",
              "      <td>1.121504</td>\n",
              "      <td>1.126152</td>\n",
              "      <td>1.126152</td>\n",
              "      <td>0</td>\n",
              "      <td>1.126152</td>\n",
              "    </tr>\n",
              "    <tr>\n",
              "      <th>...</th>\n",
              "      <td>...</td>\n",
              "      <td>...</td>\n",
              "      <td>...</td>\n",
              "      <td>...</td>\n",
              "      <td>...</td>\n",
              "      <td>...</td>\n",
              "    </tr>\n",
              "    <tr>\n",
              "      <th>2020-07-05</th>\n",
              "      <td>1.134687</td>\n",
              "      <td>1.124885</td>\n",
              "      <td>1.124885</td>\n",
              "      <td>1.124720</td>\n",
              "      <td>0</td>\n",
              "      <td>1.124720</td>\n",
              "    </tr>\n",
              "    <tr>\n",
              "      <th>2020-07-06</th>\n",
              "      <td>1.133658</td>\n",
              "      <td>1.126037</td>\n",
              "      <td>1.131030</td>\n",
              "      <td>1.131286</td>\n",
              "      <td>0</td>\n",
              "      <td>1.131286</td>\n",
              "    </tr>\n",
              "    <tr>\n",
              "      <th>2020-07-07</th>\n",
              "      <td>1.134559</td>\n",
              "      <td>1.126519</td>\n",
              "      <td>1.127281</td>\n",
              "      <td>1.127523</td>\n",
              "      <td>0</td>\n",
              "      <td>1.127523</td>\n",
              "    </tr>\n",
              "    <tr>\n",
              "      <th>2020-07-08</th>\n",
              "      <td>1.137268</td>\n",
              "      <td>1.128796</td>\n",
              "      <td>1.133787</td>\n",
              "      <td>1.133915</td>\n",
              "      <td>0</td>\n",
              "      <td>1.133915</td>\n",
              "    </tr>\n",
              "    <tr>\n",
              "      <th>2020-07-09</th>\n",
              "      <td>1.132477</td>\n",
              "      <td>1.125720</td>\n",
              "      <td>1.128923</td>\n",
              "      <td>1.128796</td>\n",
              "      <td>0</td>\n",
              "      <td>1.128796</td>\n",
              "    </tr>\n",
              "  </tbody>\n",
              "</table>\n",
              "<p>260 rows × 6 columns</p>\n",
              "</div>"
            ],
            "text/plain": [
              "                High       Low      Open     Close  Volume  Adj Close\n",
              "Date                                                                 \n",
              "2019-07-14  1.128599  1.125568  1.127180  1.127205       0   1.127205\n",
              "2019-07-15  1.126634  1.120900  1.126088  1.126177       0   1.126177\n",
              "2019-07-16  1.123343  1.120109  1.121328  1.121227       0   1.121227\n",
              "2019-07-17  1.124733  1.120624  1.122776  1.122965       0   1.122965\n",
              "2019-07-18  1.127142  1.121504  1.126152  1.126152       0   1.126152\n",
              "...              ...       ...       ...       ...     ...        ...\n",
              "2020-07-05  1.134687  1.124885  1.124885  1.124720       0   1.124720\n",
              "2020-07-06  1.133658  1.126037  1.131030  1.131286       0   1.131286\n",
              "2020-07-07  1.134559  1.126519  1.127281  1.127523       0   1.127523\n",
              "2020-07-08  1.137268  1.128796  1.133787  1.133915       0   1.133915\n",
              "2020-07-09  1.132477  1.125720  1.128923  1.128796       0   1.128796\n",
              "\n",
              "[260 rows x 6 columns]"
            ]
          },
          "metadata": {
            "tags": []
          },
          "execution_count": 7
        }
      ]
    },
    {
      "cell_type": "code",
      "metadata": {
        "id": "4j3r_xP0QDIK",
        "colab_type": "code",
        "colab": {}
      },
      "source": [
        ""
      ],
      "execution_count": null,
      "outputs": []
    }
  ]
}