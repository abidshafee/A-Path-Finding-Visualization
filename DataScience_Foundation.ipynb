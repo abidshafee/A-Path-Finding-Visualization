{
  "nbformat": 4,
  "nbformat_minor": 0,
  "metadata": {
    "colab": {
      "name": "DataScience_Foundation.ipynb",
      "provenance": [],
      "collapsed_sections": [],
      "authorship_tag": "ABX9TyMRbH4iAq0PHTaPvdaXjCUN",
      "include_colab_link": true
    },
    "kernelspec": {
      "name": "python3",
      "display_name": "Python 3"
    }
  },
  "cells": [
    {
      "cell_type": "markdown",
      "metadata": {
        "id": "view-in-github",
        "colab_type": "text"
      },
      "source": [
        "<a href=\"https://colab.research.google.com/github/abidshafee/A-Path-Finding-Visualization/blob/master/DataScience_Foundation.ipynb\" target=\"_parent\"><img src=\"https://colab.research.google.com/assets/colab-badge.svg\" alt=\"Open In Colab\"/></a>"
      ]
    },
    {
      "cell_type": "markdown",
      "metadata": {
        "id": "RImcYgCvb476",
        "colab_type": "text"
      },
      "source": [
        "# Data reduction or Dimentionality reduction"
      ]
    },
    {
      "cell_type": "code",
      "metadata": {
        "id": "dKu2O-T-7LFk",
        "colab_type": "code",
        "colab": {}
      },
      "source": [
        "import pandas as pd\n",
        "import numpy as np\n",
        "from sklearn.preprocessing import scale\n",
        "from sklearn.decomposition import PCA"
      ],
      "execution_count": 1,
      "outputs": []
    },
    {
      "cell_type": "code",
      "metadata": {
        "id": "pY12VeoN7zfP",
        "colab_type": "code",
        "colab": {
          "resources": {
            "http://localhost:8080/nbextensions/google.colab/files.js": {
              "data": "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",
              "ok": true,
              "headers": [
                [
                  "content-type",
                  "application/javascript"
                ]
              ],
              "status": 200,
              "status_text": ""
            }
          },
          "base_uri": "https://localhost:8080/",
          "height": 72
        },
        "outputId": "60190a00-313b-4e4b-ed09-105a1af1226c"
      },
      "source": [
        "from google.colab import files\n",
        "uploaded = files.upload()"
      ],
      "execution_count": 30,
      "outputs": [
        {
          "output_type": "display_data",
          "data": {
            "text/html": [
              "\n",
              "     <input type=\"file\" id=\"files-f531b691-584d-4e30-af6d-47aa0892822a\" name=\"files[]\" multiple disabled\n",
              "        style=\"border:none\" />\n",
              "     <output id=\"result-f531b691-584d-4e30-af6d-47aa0892822a\">\n",
              "      Upload widget is only available when the cell has been executed in the\n",
              "      current browser session. Please rerun this cell to enable.\n",
              "      </output>\n",
              "      <script src=\"/nbextensions/google.colab/files.js\"></script> "
            ],
            "text/plain": [
              "<IPython.core.display.HTML object>"
            ]
          },
          "metadata": {
            "tags": []
          }
        },
        {
          "output_type": "stream",
          "text": [
            "Saving ClusterData.csv to ClusterData.csv\n"
          ],
          "name": "stdout"
        }
      ]
    },
    {
      "cell_type": "code",
      "metadata": {
        "id": "xzqc6xVD8H7e",
        "colab_type": "code",
        "colab": {}
      },
      "source": [
        "df = pd.read_csv('Game_Logs_Offensive_Line.csv')"
      ],
      "execution_count": 6,
      "outputs": []
    },
    {
      "cell_type": "code",
      "metadata": {
        "id": "r7t3m5FH_iNy",
        "colab_type": "code",
        "colab": {
          "base_uri": "https://localhost:8080/",
          "height": 170
        },
        "outputId": "6b3f21b8-e374-464c-90e2-fbcaf134764d"
      },
      "source": [
        "df[['Week', 'Score']].info()"
      ],
      "execution_count": 29,
      "outputs": [
        {
          "output_type": "stream",
          "text": [
            "<class 'pandas.core.frame.DataFrame'>\n",
            "RangeIndex: 130049 entries, 0 to 130048\n",
            "Data columns (total 2 columns):\n",
            " #   Column  Non-Null Count   Dtype \n",
            "---  ------  --------------   ----- \n",
            " 0   Week    130049 non-null  int64 \n",
            " 1   Score   130049 non-null  object\n",
            "dtypes: int64(1), object(1)\n",
            "memory usage: 2.0+ MB\n"
          ],
          "name": "stdout"
        }
      ]
    },
    {
      "cell_type": "code",
      "metadata": {
        "id": "kXw6UUPGqosM",
        "colab_type": "code",
        "colab": {}
      },
      "source": [
        "# list the column variable with the data\n",
        "ldf = list(df.columns.values)"
      ],
      "execution_count": 17,
      "outputs": []
    },
    {
      "cell_type": "code",
      "metadata": {
        "id": "9ufKppnxr0jj",
        "colab_type": "code",
        "colab": {
          "base_uri": "https://localhost:8080/",
          "height": 34
        },
        "outputId": "5417f1e6-f56e-421a-ec53-2591624bd539"
      },
      "source": [
        "len(ldf)"
      ],
      "execution_count": 19,
      "outputs": [
        {
          "output_type": "execute_result",
          "data": {
            "text/plain": [
              "15"
            ]
          },
          "metadata": {
            "tags": []
          },
          "execution_count": 19
        }
      ]
    },
    {
      "cell_type": "code",
      "metadata": {
        "id": "pdvNXQ81_k3j",
        "colab_type": "code",
        "colab": {}
      },
      "source": [
        "# df['FirstName'] = df[['Name']].apply(lamda x: x.split(',')[0])\n",
        "# df['Name'].isnull().sum()\n",
        "\n",
        "'''\n",
        "You can use str.split to split the strings, then test the number of splits using str.\n",
        "len and use this as a boolean mask to assign just those rows with the last component of the split:\n",
        "'''\n",
        "# spliting LastName\n",
        "df.loc[df['Name'].str.split().str.len() == 2, 'LastName'] = df['Name'].str.split().str[-1]\n",
        "\n",
        "# splitting FirstName\n",
        "df.loc[df['Name'].str.split().str.len() == 2, 'FirstName'] = df['Name'].str.split().str[0]"
      ],
      "execution_count": 9,
      "outputs": []
    },
    {
      "cell_type": "code",
      "metadata": {
        "id": "mFKWymptAfpE",
        "colab_type": "code",
        "colab": {
          "base_uri": "https://localhost:8080/",
          "height": 606
        },
        "outputId": "ce74f853-7c65-4a46-91e3-2f685768ec72"
      },
      "source": [
        "df"
      ],
      "execution_count": 10,
      "outputs": [
        {
          "output_type": "execute_result",
          "data": {
            "text/html": [
              "<div>\n",
              "<style scoped>\n",
              "    .dataframe tbody tr th:only-of-type {\n",
              "        vertical-align: middle;\n",
              "    }\n",
              "\n",
              "    .dataframe tbody tr th {\n",
              "        vertical-align: top;\n",
              "    }\n",
              "\n",
              "    .dataframe thead th {\n",
              "        text-align: right;\n",
              "    }\n",
              "</style>\n",
              "<table border=\"1\" class=\"dataframe\">\n",
              "  <thead>\n",
              "    <tr style=\"text-align: right;\">\n",
              "      <th></th>\n",
              "      <th>Player Id</th>\n",
              "      <th>Name</th>\n",
              "      <th>Position</th>\n",
              "      <th>Year</th>\n",
              "      <th>Season</th>\n",
              "      <th>Week</th>\n",
              "      <th>Game Date</th>\n",
              "      <th>Home or Away</th>\n",
              "      <th>Opponent</th>\n",
              "      <th>Outcome</th>\n",
              "      <th>Score</th>\n",
              "      <th>Games Played</th>\n",
              "      <th>Games Started</th>\n",
              "      <th>LastName</th>\n",
              "      <th>FirstName</th>\n",
              "    </tr>\n",
              "  </thead>\n",
              "  <tbody>\n",
              "    <tr>\n",
              "      <th>0</th>\n",
              "      <td>jeffnady/2541732</td>\n",
              "      <td>Nady, Jeff</td>\n",
              "      <td>NaN</td>\n",
              "      <td>2013</td>\n",
              "      <td>Preseason</td>\n",
              "      <td>2</td>\n",
              "      <td>08/15</td>\n",
              "      <td>Away</td>\n",
              "      <td>BAL</td>\n",
              "      <td>L</td>\n",
              "      <td>23 to 27</td>\n",
              "      <td>0</td>\n",
              "      <td>0</td>\n",
              "      <td>Jeff</td>\n",
              "      <td>Nady,</td>\n",
              "    </tr>\n",
              "    <tr>\n",
              "      <th>1</th>\n",
              "      <td>chrisriley/2530729</td>\n",
              "      <td>Riley, Chris</td>\n",
              "      <td>NaN</td>\n",
              "      <td>2011</td>\n",
              "      <td>Preseason</td>\n",
              "      <td>1</td>\n",
              "      <td>08/12</td>\n",
              "      <td>Away</td>\n",
              "      <td>DET</td>\n",
              "      <td>L</td>\n",
              "      <td>3 to 34</td>\n",
              "      <td>1</td>\n",
              "      <td>0</td>\n",
              "      <td>Chris</td>\n",
              "      <td>Riley,</td>\n",
              "    </tr>\n",
              "    <tr>\n",
              "      <th>2</th>\n",
              "      <td>chrisriley/2530729</td>\n",
              "      <td>Riley, Chris</td>\n",
              "      <td>NaN</td>\n",
              "      <td>2011</td>\n",
              "      <td>Preseason</td>\n",
              "      <td>2</td>\n",
              "      <td>08/21</td>\n",
              "      <td>Away</td>\n",
              "      <td>NYJ</td>\n",
              "      <td>L</td>\n",
              "      <td>7 to 27</td>\n",
              "      <td>1</td>\n",
              "      <td>0</td>\n",
              "      <td>Chris</td>\n",
              "      <td>Riley,</td>\n",
              "    </tr>\n",
              "    <tr>\n",
              "      <th>3</th>\n",
              "      <td>chrisriley/2530729</td>\n",
              "      <td>Riley, Chris</td>\n",
              "      <td>NaN</td>\n",
              "      <td>2011</td>\n",
              "      <td>Preseason</td>\n",
              "      <td>3</td>\n",
              "      <td>08/25</td>\n",
              "      <td>Home</td>\n",
              "      <td>CAR</td>\n",
              "      <td>W</td>\n",
              "      <td>24 to 13</td>\n",
              "      <td>1</td>\n",
              "      <td>0</td>\n",
              "      <td>Chris</td>\n",
              "      <td>Riley,</td>\n",
              "    </tr>\n",
              "    <tr>\n",
              "      <th>4</th>\n",
              "      <td>chrisriley/2530729</td>\n",
              "      <td>Riley, Chris</td>\n",
              "      <td>NaN</td>\n",
              "      <td>2011</td>\n",
              "      <td>Preseason</td>\n",
              "      <td>4</td>\n",
              "      <td>09/01</td>\n",
              "      <td>Home</td>\n",
              "      <td>IND</td>\n",
              "      <td>L</td>\n",
              "      <td>13 to 17</td>\n",
              "      <td>1</td>\n",
              "      <td>0</td>\n",
              "      <td>Chris</td>\n",
              "      <td>Riley,</td>\n",
              "    </tr>\n",
              "    <tr>\n",
              "      <th>...</th>\n",
              "      <td>...</td>\n",
              "      <td>...</td>\n",
              "      <td>...</td>\n",
              "      <td>...</td>\n",
              "      <td>...</td>\n",
              "      <td>...</td>\n",
              "      <td>...</td>\n",
              "      <td>...</td>\n",
              "      <td>...</td>\n",
              "      <td>...</td>\n",
              "      <td>...</td>\n",
              "      <td>...</td>\n",
              "      <td>...</td>\n",
              "      <td>...</td>\n",
              "      <td>...</td>\n",
              "    </tr>\n",
              "    <tr>\n",
              "      <th>130044</th>\n",
              "      <td>stephengoodin/2535931</td>\n",
              "      <td>Goodin, Stephen</td>\n",
              "      <td>NaN</td>\n",
              "      <td>2013</td>\n",
              "      <td>Regular Season</td>\n",
              "      <td>17</td>\n",
              "      <td>12/29</td>\n",
              "      <td>Home</td>\n",
              "      <td>WAS</td>\n",
              "      <td>W</td>\n",
              "      <td>20 to 6</td>\n",
              "      <td>1</td>\n",
              "      <td>0</td>\n",
              "      <td>Stephen</td>\n",
              "      <td>Goodin,</td>\n",
              "    </tr>\n",
              "    <tr>\n",
              "      <th>130045</th>\n",
              "      <td>stephengoodin/2535931</td>\n",
              "      <td>Goodin, Stephen</td>\n",
              "      <td>NaN</td>\n",
              "      <td>2012</td>\n",
              "      <td>Preseason</td>\n",
              "      <td>1</td>\n",
              "      <td>08/10</td>\n",
              "      <td>Away</td>\n",
              "      <td>JAC</td>\n",
              "      <td>L</td>\n",
              "      <td>31 to 32</td>\n",
              "      <td>1</td>\n",
              "      <td>0</td>\n",
              "      <td>Stephen</td>\n",
              "      <td>Goodin,</td>\n",
              "    </tr>\n",
              "    <tr>\n",
              "      <th>130046</th>\n",
              "      <td>stephengoodin/2535931</td>\n",
              "      <td>Goodin, Stephen</td>\n",
              "      <td>NaN</td>\n",
              "      <td>2012</td>\n",
              "      <td>Preseason</td>\n",
              "      <td>2</td>\n",
              "      <td>08/18</td>\n",
              "      <td>Away</td>\n",
              "      <td>NYJ</td>\n",
              "      <td>W</td>\n",
              "      <td>26 to 3</td>\n",
              "      <td>1</td>\n",
              "      <td>0</td>\n",
              "      <td>Stephen</td>\n",
              "      <td>Goodin,</td>\n",
              "    </tr>\n",
              "    <tr>\n",
              "      <th>130047</th>\n",
              "      <td>stephengoodin/2535931</td>\n",
              "      <td>Goodin, Stephen</td>\n",
              "      <td>NaN</td>\n",
              "      <td>2012</td>\n",
              "      <td>Preseason</td>\n",
              "      <td>3</td>\n",
              "      <td>08/24</td>\n",
              "      <td>Home</td>\n",
              "      <td>CHI</td>\n",
              "      <td>L</td>\n",
              "      <td>17 to 20</td>\n",
              "      <td>0</td>\n",
              "      <td>0</td>\n",
              "      <td>Stephen</td>\n",
              "      <td>Goodin,</td>\n",
              "    </tr>\n",
              "    <tr>\n",
              "      <th>130048</th>\n",
              "      <td>stephengoodin/2535931</td>\n",
              "      <td>Goodin, Stephen</td>\n",
              "      <td>NaN</td>\n",
              "      <td>2012</td>\n",
              "      <td>Preseason</td>\n",
              "      <td>4</td>\n",
              "      <td>08/29</td>\n",
              "      <td>Home</td>\n",
              "      <td>NE</td>\n",
              "      <td>W</td>\n",
              "      <td>6 to 3</td>\n",
              "      <td>1</td>\n",
              "      <td>0</td>\n",
              "      <td>Stephen</td>\n",
              "      <td>Goodin,</td>\n",
              "    </tr>\n",
              "  </tbody>\n",
              "</table>\n",
              "<p>130049 rows × 15 columns</p>\n",
              "</div>"
            ],
            "text/plain": [
              "                    Player Id             Name  ... LastName  FirstName\n",
              "0            jeffnady/2541732       Nady, Jeff  ...     Jeff      Nady,\n",
              "1          chrisriley/2530729     Riley, Chris  ...    Chris     Riley,\n",
              "2          chrisriley/2530729     Riley, Chris  ...    Chris     Riley,\n",
              "3          chrisriley/2530729     Riley, Chris  ...    Chris     Riley,\n",
              "4          chrisriley/2530729     Riley, Chris  ...    Chris     Riley,\n",
              "...                       ...              ...  ...      ...        ...\n",
              "130044  stephengoodin/2535931  Goodin, Stephen  ...  Stephen    Goodin,\n",
              "130045  stephengoodin/2535931  Goodin, Stephen  ...  Stephen    Goodin,\n",
              "130046  stephengoodin/2535931  Goodin, Stephen  ...  Stephen    Goodin,\n",
              "130047  stephengoodin/2535931  Goodin, Stephen  ...  Stephen    Goodin,\n",
              "130048  stephengoodin/2535931  Goodin, Stephen  ...  Stephen    Goodin,\n",
              "\n",
              "[130049 rows x 15 columns]"
            ]
          },
          "metadata": {
            "tags": []
          },
          "execution_count": 10
        }
      ]
    },
    {
      "cell_type": "code",
      "metadata": {
        "id": "t_7_V9HWGz5R",
        "colab_type": "code",
        "colab": {
          "base_uri": "https://localhost:8080/",
          "height": 297
        },
        "outputId": "7ae232b7-1782-4ad4-9dec-7223ff29d5cd"
      },
      "source": [
        "# converting dataframe to numpy object using 'values' attributes \n",
        "x = df.values\n",
        "df.describe()"
      ],
      "execution_count": 14,
      "outputs": [
        {
          "output_type": "execute_result",
          "data": {
            "text/html": [
              "<div>\n",
              "<style scoped>\n",
              "    .dataframe tbody tr th:only-of-type {\n",
              "        vertical-align: middle;\n",
              "    }\n",
              "\n",
              "    .dataframe tbody tr th {\n",
              "        vertical-align: top;\n",
              "    }\n",
              "\n",
              "    .dataframe thead th {\n",
              "        text-align: right;\n",
              "    }\n",
              "</style>\n",
              "<table border=\"1\" class=\"dataframe\">\n",
              "  <thead>\n",
              "    <tr style=\"text-align: right;\">\n",
              "      <th></th>\n",
              "      <th>Year</th>\n",
              "      <th>Week</th>\n",
              "      <th>Games Played</th>\n",
              "    </tr>\n",
              "  </thead>\n",
              "  <tbody>\n",
              "    <tr>\n",
              "      <th>count</th>\n",
              "      <td>130049.000000</td>\n",
              "      <td>130049.000000</td>\n",
              "      <td>130049.000000</td>\n",
              "    </tr>\n",
              "    <tr>\n",
              "      <th>mean</th>\n",
              "      <td>1998.308707</td>\n",
              "      <td>8.481226</td>\n",
              "      <td>0.854539</td>\n",
              "    </tr>\n",
              "    <tr>\n",
              "      <th>std</th>\n",
              "      <td>13.607618</td>\n",
              "      <td>5.329845</td>\n",
              "      <td>0.352566</td>\n",
              "    </tr>\n",
              "    <tr>\n",
              "      <th>min</th>\n",
              "      <td>1970.000000</td>\n",
              "      <td>0.000000</td>\n",
              "      <td>0.000000</td>\n",
              "    </tr>\n",
              "    <tr>\n",
              "      <th>25%</th>\n",
              "      <td>1987.000000</td>\n",
              "      <td>4.000000</td>\n",
              "      <td>1.000000</td>\n",
              "    </tr>\n",
              "    <tr>\n",
              "      <th>50%</th>\n",
              "      <td>2001.000000</td>\n",
              "      <td>8.000000</td>\n",
              "      <td>1.000000</td>\n",
              "    </tr>\n",
              "    <tr>\n",
              "      <th>75%</th>\n",
              "      <td>2010.000000</td>\n",
              "      <td>13.000000</td>\n",
              "      <td>1.000000</td>\n",
              "    </tr>\n",
              "    <tr>\n",
              "      <th>max</th>\n",
              "      <td>2016.000000</td>\n",
              "      <td>23.000000</td>\n",
              "      <td>1.000000</td>\n",
              "    </tr>\n",
              "  </tbody>\n",
              "</table>\n",
              "</div>"
            ],
            "text/plain": [
              "                Year           Week   Games Played\n",
              "count  130049.000000  130049.000000  130049.000000\n",
              "mean     1998.308707       8.481226       0.854539\n",
              "std        13.607618       5.329845       0.352566\n",
              "min      1970.000000       0.000000       0.000000\n",
              "25%      1987.000000       4.000000       1.000000\n",
              "50%      2001.000000       8.000000       1.000000\n",
              "75%      2010.000000      13.000000       1.000000\n",
              "max      2016.000000      23.000000       1.000000"
            ]
          },
          "metadata": {
            "tags": []
          },
          "execution_count": 14
        }
      ]
    },
    {
      "cell_type": "code",
      "metadata": {
        "id": "mA03wcNQQZ4Q",
        "colab_type": "code",
        "colab": {
          "base_uri": "https://localhost:8080/",
          "height": 391
        },
        "outputId": "47b77790-1d59-4350-cc0d-1e1d6ac4d5f9"
      },
      "source": [
        "df.info()"
      ],
      "execution_count": 12,
      "outputs": [
        {
          "output_type": "stream",
          "text": [
            "<class 'pandas.core.frame.DataFrame'>\n",
            "RangeIndex: 130049 entries, 0 to 130048\n",
            "Data columns (total 15 columns):\n",
            " #   Column         Non-Null Count   Dtype \n",
            "---  ------         --------------   ----- \n",
            " 0   Player Id      130049 non-null  object\n",
            " 1   Name           130049 non-null  object\n",
            " 2   Position       28678 non-null   object\n",
            " 3   Year           130049 non-null  int64 \n",
            " 4   Season         130049 non-null  object\n",
            " 5   Week           130049 non-null  int64 \n",
            " 6   Game Date      130049 non-null  object\n",
            " 7   Home or Away   130049 non-null  object\n",
            " 8   Opponent       130049 non-null  object\n",
            " 9   Outcome        130049 non-null  object\n",
            " 10  Score          130049 non-null  object\n",
            " 11  Games Played   130049 non-null  int64 \n",
            " 12  Games Started  130049 non-null  object\n",
            " 13  LastName       128977 non-null  object\n",
            " 14  FirstName      128977 non-null  object\n",
            "dtypes: int64(3), object(12)\n",
            "memory usage: 14.9+ MB\n"
          ],
          "name": "stdout"
        }
      ]
    },
    {
      "cell_type": "code",
      "metadata": {
        "id": "wpF7aH1Vbv9C",
        "colab_type": "code",
        "colab": {
          "base_uri": "https://localhost:8080/",
          "height": 221
        },
        "outputId": "9a42c6d3-482a-4733-aedd-d3eaf14df5c3"
      },
      "source": [
        "x"
      ],
      "execution_count": 15,
      "outputs": [
        {
          "output_type": "execute_result",
          "data": {
            "text/plain": [
              "array([['jeffnady/2541732', 'Nady, Jeff', nan, ..., '0', 'Jeff', 'Nady,'],\n",
              "       ['chrisriley/2530729', 'Riley, Chris', nan, ..., '0', 'Chris',\n",
              "        'Riley,'],\n",
              "       ['chrisriley/2530729', 'Riley, Chris', nan, ..., '0', 'Chris',\n",
              "        'Riley,'],\n",
              "       ...,\n",
              "       ['stephengoodin/2535931', 'Goodin, Stephen', nan, ..., '0',\n",
              "        'Stephen', 'Goodin,'],\n",
              "       ['stephengoodin/2535931', 'Goodin, Stephen', nan, ..., '0',\n",
              "        'Stephen', 'Goodin,'],\n",
              "       ['stephengoodin/2535931', 'Goodin, Stephen', nan, ..., '0',\n",
              "        'Stephen', 'Goodin,']], dtype=object)"
            ]
          },
          "metadata": {
            "tags": []
          },
          "execution_count": 15
        }
      ]
    },
    {
      "cell_type": "code",
      "metadata": {
        "id": "GcmeGYUWbxr6",
        "colab_type": "code",
        "colab": {
          "base_uri": "https://localhost:8080/",
          "height": 289
        },
        "outputId": "56256c8e-2ea3-4c1d-a723-03fcd8c1e185"
      },
      "source": [
        "df.isna().sum()"
      ],
      "execution_count": null,
      "outputs": [
        {
          "output_type": "execute_result",
          "data": {
            "text/plain": [
              "Player Id             0\n",
              "Name                  0\n",
              "Position         101371\n",
              "Year                  0\n",
              "Season                0\n",
              "Week                  0\n",
              "Game Date             0\n",
              "Home or Away          0\n",
              "Opponent              0\n",
              "Outcome               0\n",
              "Score                 0\n",
              "Games Played          0\n",
              "Games Started         0\n",
              "LastName           1072\n",
              "FirstName          1072\n",
              "dtype: int64"
            ]
          },
          "metadata": {
            "tags": []
          },
          "execution_count": 25
        }
      ]
    },
    {
      "cell_type": "markdown",
      "metadata": {
        "id": "dHkzfX5TBWrh",
        "colab_type": "text"
      },
      "source": [
        "## Statistical Function in NumPy\n",
        "### x = [1, 2, 3, 4, 5, 6, 7, 8, 9, 10]\n",
        " - **a = np.arrange(x)**\\\n",
        " - **b = np.median(x)**\\\n",
        " - **c = np.average(x)**\n",
        " - **d = np.mean(x)**\n",
        " - **e = np.std(a) #standard deviation**\n",
        " - **d = np.var(a) #varience**\n",
        " - **np.histogram(a)**"
      ]
    },
    {
      "cell_type": "markdown",
      "metadata": {
        "id": "B3bxGRxnt8We",
        "colab_type": "text"
      },
      "source": [
        "# Clustering Data"
      ]
    },
    {
      "cell_type": "code",
      "metadata": {
        "id": "ZWJIzo7h_F44",
        "colab_type": "code",
        "colab": {}
      },
      "source": [
        "data = pd.read_csv('ClusterData.csv')"
      ],
      "execution_count": 31,
      "outputs": []
    },
    {
      "cell_type": "code",
      "metadata": {
        "id": "0yoU8ntVu3OJ",
        "colab_type": "code",
        "colab": {
          "base_uri": "https://localhost:8080/",
          "height": 646
        },
        "outputId": "63139f5b-6d45-41f5-fe98-3099fbc72530"
      },
      "source": [
        "data.info()"
      ],
      "execution_count": 33,
      "outputs": [
        {
          "output_type": "stream",
          "text": [
            "<class 'pandas.core.frame.DataFrame'>\n",
            "RangeIndex: 48 entries, 0 to 47\n",
            "Data columns (total 30 columns):\n",
            " #   Column             Non-Null Count  Dtype  \n",
            "---  ------             --------------  -----  \n",
            " 0   State              48 non-null     object \n",
            " 1   state_code         48 non-null     object \n",
            " 2   data science       48 non-null     float64\n",
            " 3   cluster analysis   48 non-null     float64\n",
            " 4   college            48 non-null     float64\n",
            " 5   startup            48 non-null     float64\n",
            " 6   entrepreneur       48 non-null     float64\n",
            " 7   ceo                48 non-null     float64\n",
            " 8   mortgage           48 non-null     float64\n",
            " 9   nba                48 non-null     float64\n",
            " 10  nfl                48 non-null     float64\n",
            " 11  mlb                48 non-null     float64\n",
            " 12  fifa               48 non-null     float64\n",
            " 13  modern dance       48 non-null     float64\n",
            " 14  prius              48 non-null     float64\n",
            " 15  escalade           48 non-null     float64\n",
            " 16  subaru             48 non-null     float64\n",
            " 17  jello              48 non-null     float64\n",
            " 18  bbq                48 non-null     float64\n",
            " 19  royal family       48 non-null     float64\n",
            " 20  obfuscation        48 non-null     float64\n",
            " 21  unicorn            48 non-null     float64\n",
            " 22  Extraversion       48 non-null     float64\n",
            " 23  Agreeableness      48 non-null     float64\n",
            " 24  Conscientiousness  48 non-null     float64\n",
            " 25  Neuroticism        48 non-null     float64\n",
            " 26  Openness           48 non-null     float64\n",
            " 27  PsychRegions       48 non-null     int64  \n",
            " 28  region             48 non-null     int64  \n",
            " 29  division           48 non-null     int64  \n",
            "dtypes: float64(25), int64(3), object(2)\n",
            "memory usage: 11.4+ KB\n"
          ],
          "name": "stdout"
        }
      ]
    },
    {
      "cell_type": "code",
      "metadata": {
        "id": "h-ebln8Lu4jy",
        "colab_type": "code",
        "colab": {
          "base_uri": "https://localhost:8080/",
          "height": 334
        },
        "outputId": "84ef15ee-cc35-453d-cf5f-7ffc90c4b9d3"
      },
      "source": [
        "data.describe()"
      ],
      "execution_count": 34,
      "outputs": [
        {
          "output_type": "execute_result",
          "data": {
            "text/html": [
              "<div>\n",
              "<style scoped>\n",
              "    .dataframe tbody tr th:only-of-type {\n",
              "        vertical-align: middle;\n",
              "    }\n",
              "\n",
              "    .dataframe tbody tr th {\n",
              "        vertical-align: top;\n",
              "    }\n",
              "\n",
              "    .dataframe thead th {\n",
              "        text-align: right;\n",
              "    }\n",
              "</style>\n",
              "<table border=\"1\" class=\"dataframe\">\n",
              "  <thead>\n",
              "    <tr style=\"text-align: right;\">\n",
              "      <th></th>\n",
              "      <th>data science</th>\n",
              "      <th>cluster analysis</th>\n",
              "      <th>college</th>\n",
              "      <th>startup</th>\n",
              "      <th>entrepreneur</th>\n",
              "      <th>ceo</th>\n",
              "      <th>mortgage</th>\n",
              "      <th>nba</th>\n",
              "      <th>nfl</th>\n",
              "      <th>mlb</th>\n",
              "      <th>fifa</th>\n",
              "      <th>modern dance</th>\n",
              "      <th>prius</th>\n",
              "      <th>escalade</th>\n",
              "      <th>subaru</th>\n",
              "      <th>jello</th>\n",
              "      <th>bbq</th>\n",
              "      <th>royal family</th>\n",
              "      <th>obfuscation</th>\n",
              "      <th>unicorn</th>\n",
              "      <th>Extraversion</th>\n",
              "      <th>Agreeableness</th>\n",
              "      <th>Conscientiousness</th>\n",
              "      <th>Neuroticism</th>\n",
              "      <th>Openness</th>\n",
              "      <th>PsychRegions</th>\n",
              "      <th>region</th>\n",
              "      <th>division</th>\n",
              "    </tr>\n",
              "  </thead>\n",
              "  <tbody>\n",
              "    <tr>\n",
              "      <th>count</th>\n",
              "      <td>48.000000</td>\n",
              "      <td>48.000000</td>\n",
              "      <td>48.000000</td>\n",
              "      <td>48.000000</td>\n",
              "      <td>48.000000</td>\n",
              "      <td>48.000000</td>\n",
              "      <td>48.000000</td>\n",
              "      <td>48.000000</td>\n",
              "      <td>48.000000</td>\n",
              "      <td>48.000000</td>\n",
              "      <td>48.000000</td>\n",
              "      <td>48.000000</td>\n",
              "      <td>48.000000</td>\n",
              "      <td>48.000000</td>\n",
              "      <td>48.000000</td>\n",
              "      <td>48.000000</td>\n",
              "      <td>48.000000</td>\n",
              "      <td>48.000000</td>\n",
              "      <td>48.000000</td>\n",
              "      <td>48.000000</td>\n",
              "      <td>48.000000</td>\n",
              "      <td>48.000000</td>\n",
              "      <td>48.0000</td>\n",
              "      <td>48.000000</td>\n",
              "      <td>48.000000</td>\n",
              "      <td>48.000000</td>\n",
              "      <td>48.000000</td>\n",
              "      <td>48.000000</td>\n",
              "    </tr>\n",
              "    <tr>\n",
              "      <th>mean</th>\n",
              "      <td>-0.000833</td>\n",
              "      <td>-0.012500</td>\n",
              "      <td>0.060625</td>\n",
              "      <td>0.013542</td>\n",
              "      <td>0.031667</td>\n",
              "      <td>-0.030000</td>\n",
              "      <td>-0.026250</td>\n",
              "      <td>-0.025000</td>\n",
              "      <td>-0.027292</td>\n",
              "      <td>0.021458</td>\n",
              "      <td>0.038333</td>\n",
              "      <td>-0.007708</td>\n",
              "      <td>-0.048958</td>\n",
              "      <td>0.018958</td>\n",
              "      <td>-0.020417</td>\n",
              "      <td>0.002917</td>\n",
              "      <td>0.001667</td>\n",
              "      <td>-0.113750</td>\n",
              "      <td>-0.003542</td>\n",
              "      <td>0.015000</td>\n",
              "      <td>49.695833</td>\n",
              "      <td>50.593750</td>\n",
              "      <td>50.1250</td>\n",
              "      <td>50.185417</td>\n",
              "      <td>49.427083</td>\n",
              "      <td>1.791667</td>\n",
              "      <td>2.604167</td>\n",
              "      <td>4.958333</td>\n",
              "    </tr>\n",
              "    <tr>\n",
              "      <th>std</th>\n",
              "      <td>0.971397</td>\n",
              "      <td>0.972073</td>\n",
              "      <td>0.982906</td>\n",
              "      <td>1.023726</td>\n",
              "      <td>0.974069</td>\n",
              "      <td>0.910588</td>\n",
              "      <td>0.984956</td>\n",
              "      <td>0.998769</td>\n",
              "      <td>1.017104</td>\n",
              "      <td>1.010104</td>\n",
              "      <td>1.001002</td>\n",
              "      <td>1.024544</td>\n",
              "      <td>0.958153</td>\n",
              "      <td>1.026055</td>\n",
              "      <td>0.991573</td>\n",
              "      <td>1.010277</td>\n",
              "      <td>1.015286</td>\n",
              "      <td>0.904096</td>\n",
              "      <td>1.010908</td>\n",
              "      <td>0.991743</td>\n",
              "      <td>9.862975</td>\n",
              "      <td>9.192166</td>\n",
              "      <td>10.0659</td>\n",
              "      <td>10.030952</td>\n",
              "      <td>9.267117</td>\n",
              "      <td>0.874176</td>\n",
              "      <td>1.046566</td>\n",
              "      <td>2.483634</td>\n",
              "    </tr>\n",
              "    <tr>\n",
              "      <th>min</th>\n",
              "      <td>-1.270000</td>\n",
              "      <td>-1.700000</td>\n",
              "      <td>-1.960000</td>\n",
              "      <td>-1.830000</td>\n",
              "      <td>-1.940000</td>\n",
              "      <td>-1.380000</td>\n",
              "      <td>-2.400000</td>\n",
              "      <td>-1.720000</td>\n",
              "      <td>-2.560000</td>\n",
              "      <td>-1.500000</td>\n",
              "      <td>-1.570000</td>\n",
              "      <td>-1.360000</td>\n",
              "      <td>-1.390000</td>\n",
              "      <td>-2.340000</td>\n",
              "      <td>-1.340000</td>\n",
              "      <td>-1.620000</td>\n",
              "      <td>-1.680000</td>\n",
              "      <td>-2.550000</td>\n",
              "      <td>-1.770000</td>\n",
              "      <td>-1.720000</td>\n",
              "      <td>26.500000</td>\n",
              "      <td>29.800000</td>\n",
              "      <td>24.0000</td>\n",
              "      <td>30.400000</td>\n",
              "      <td>21.800000</td>\n",
              "      <td>1.000000</td>\n",
              "      <td>1.000000</td>\n",
              "      <td>1.000000</td>\n",
              "    </tr>\n",
              "    <tr>\n",
              "      <th>25%</th>\n",
              "      <td>-0.662500</td>\n",
              "      <td>-0.730000</td>\n",
              "      <td>-0.617500</td>\n",
              "      <td>-0.650000</td>\n",
              "      <td>-0.607500</td>\n",
              "      <td>-0.675000</td>\n",
              "      <td>-0.732500</td>\n",
              "      <td>-0.855000</td>\n",
              "      <td>-0.650000</td>\n",
              "      <td>-0.812500</td>\n",
              "      <td>-0.672500</td>\n",
              "      <td>-0.630000</td>\n",
              "      <td>-0.582500</td>\n",
              "      <td>-0.602500</td>\n",
              "      <td>-0.740000</td>\n",
              "      <td>-0.757500</td>\n",
              "      <td>-0.905000</td>\n",
              "      <td>-0.645000</td>\n",
              "      <td>-0.730000</td>\n",
              "      <td>-0.537500</td>\n",
              "      <td>44.350000</td>\n",
              "      <td>45.775000</td>\n",
              "      <td>43.0500</td>\n",
              "      <td>43.850000</td>\n",
              "      <td>42.700000</td>\n",
              "      <td>1.000000</td>\n",
              "      <td>2.000000</td>\n",
              "      <td>3.000000</td>\n",
              "    </tr>\n",
              "    <tr>\n",
              "      <th>50%</th>\n",
              "      <td>-0.235000</td>\n",
              "      <td>-0.135000</td>\n",
              "      <td>-0.050000</td>\n",
              "      <td>-0.055000</td>\n",
              "      <td>0.070000</td>\n",
              "      <td>-0.115000</td>\n",
              "      <td>-0.005000</td>\n",
              "      <td>-0.130000</td>\n",
              "      <td>-0.140000</td>\n",
              "      <td>-0.035000</td>\n",
              "      <td>-0.250000</td>\n",
              "      <td>-0.215000</td>\n",
              "      <td>-0.290000</td>\n",
              "      <td>-0.130000</td>\n",
              "      <td>-0.280000</td>\n",
              "      <td>-0.195000</td>\n",
              "      <td>-0.185000</td>\n",
              "      <td>-0.255000</td>\n",
              "      <td>-0.105000</td>\n",
              "      <td>-0.165000</td>\n",
              "      <td>51.150000</td>\n",
              "      <td>52.050000</td>\n",
              "      <td>51.3500</td>\n",
              "      <td>49.000000</td>\n",
              "      <td>49.850000</td>\n",
              "      <td>1.500000</td>\n",
              "      <td>3.000000</td>\n",
              "      <td>5.000000</td>\n",
              "    </tr>\n",
              "    <tr>\n",
              "      <th>75%</th>\n",
              "      <td>0.352500</td>\n",
              "      <td>0.412500</td>\n",
              "      <td>0.747500</td>\n",
              "      <td>0.332500</td>\n",
              "      <td>0.485000</td>\n",
              "      <td>0.420000</td>\n",
              "      <td>0.537500</td>\n",
              "      <td>0.612500</td>\n",
              "      <td>0.702500</td>\n",
              "      <td>0.867500</td>\n",
              "      <td>0.760000</td>\n",
              "      <td>0.485000</td>\n",
              "      <td>0.172500</td>\n",
              "      <td>0.682500</td>\n",
              "      <td>0.460000</td>\n",
              "      <td>0.572500</td>\n",
              "      <td>0.817500</td>\n",
              "      <td>0.440000</td>\n",
              "      <td>0.462500</td>\n",
              "      <td>0.387500</td>\n",
              "      <td>56.050000</td>\n",
              "      <td>56.625000</td>\n",
              "      <td>56.1250</td>\n",
              "      <td>56.925000</td>\n",
              "      <td>56.675000</td>\n",
              "      <td>3.000000</td>\n",
              "      <td>3.000000</td>\n",
              "      <td>7.000000</td>\n",
              "    </tr>\n",
              "    <tr>\n",
              "      <th>max</th>\n",
              "      <td>2.730000</td>\n",
              "      <td>2.910000</td>\n",
              "      <td>2.360000</td>\n",
              "      <td>2.630000</td>\n",
              "      <td>2.740000</td>\n",
              "      <td>2.460000</td>\n",
              "      <td>1.890000</td>\n",
              "      <td>2.120000</td>\n",
              "      <td>2.090000</td>\n",
              "      <td>2.490000</td>\n",
              "      <td>2.600000</td>\n",
              "      <td>4.790000</td>\n",
              "      <td>3.970000</td>\n",
              "      <td>2.000000</td>\n",
              "      <td>3.210000</td>\n",
              "      <td>2.650000</td>\n",
              "      <td>2.050000</td>\n",
              "      <td>1.750000</td>\n",
              "      <td>2.590000</td>\n",
              "      <td>3.220000</td>\n",
              "      <td>69.800000</td>\n",
              "      <td>69.400000</td>\n",
              "      <td>69.6000</td>\n",
              "      <td>79.200000</td>\n",
              "      <td>65.000000</td>\n",
              "      <td>3.000000</td>\n",
              "      <td>4.000000</td>\n",
              "      <td>9.000000</td>\n",
              "    </tr>\n",
              "  </tbody>\n",
              "</table>\n",
              "</div>"
            ],
            "text/plain": [
              "       data science  cluster analysis  ...     region   division\n",
              "count     48.000000         48.000000  ...  48.000000  48.000000\n",
              "mean      -0.000833         -0.012500  ...   2.604167   4.958333\n",
              "std        0.971397          0.972073  ...   1.046566   2.483634\n",
              "min       -1.270000         -1.700000  ...   1.000000   1.000000\n",
              "25%       -0.662500         -0.730000  ...   2.000000   3.000000\n",
              "50%       -0.235000         -0.135000  ...   3.000000   5.000000\n",
              "75%        0.352500          0.412500  ...   3.000000   7.000000\n",
              "max        2.730000          2.910000  ...   4.000000   9.000000\n",
              "\n",
              "[8 rows x 28 columns]"
            ]
          },
          "metadata": {
            "tags": []
          },
          "execution_count": 34
        }
      ]
    },
    {
      "cell_type": "code",
      "metadata": {
        "id": "zwy-dz34vF_C",
        "colab_type": "code",
        "colab": {}
      },
      "source": [
        ""
      ],
      "execution_count": null,
      "outputs": []
    }
  ]
}